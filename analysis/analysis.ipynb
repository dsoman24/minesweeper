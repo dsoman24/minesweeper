{
 "cells": [
  {
   "attachments": {},
   "cell_type": "markdown",
   "metadata": {},
   "source": [
    "# Minesweeper Bot Analysis\n",
    "Primarily an analysis of my probabilistic strategy.\n",
    "\n",
    "Data collection overview:\n",
    "- 9x9 grid, varying the number of mines from 0 to 81. \n",
    "- 1000 trials per distinct density (so 82000 games simulated).\n",
    "\n",
    "Insights:\n",
    "1. Runtime by density\n",
    "2. Win rate by density\n",
    "3. Turns taken to win by density\n",
    "    - How many tiles are cleared?\n",
    "4. Turns taken to lose by density\n",
    "    - How many tiles are cleared?\n",
    "    - How many tiles are left?"
   ]
  },
  {
   "attachments": {},
   "cell_type": "markdown",
   "metadata": {},
   "source": [
    "Import dependencies"
   ]
  },
  {
   "cell_type": "code",
   "execution_count": 84,
   "metadata": {},
   "outputs": [],
   "source": [
    "import pandas as pd\n",
    "import matplotlib.pyplot as plt"
   ]
  },
  {
   "attachments": {},
   "cell_type": "markdown",
   "metadata": {},
   "source": [
    "Read data"
   ]
  },
  {
   "cell_type": "code",
   "execution_count": 85,
   "metadata": {},
   "outputs": [
    {
     "data": {
      "text/html": [
       "<div>\n",
       "<style scoped>\n",
       "    .dataframe tbody tr th:only-of-type {\n",
       "        vertical-align: middle;\n",
       "    }\n",
       "\n",
       "    .dataframe tbody tr th {\n",
       "        vertical-align: top;\n",
       "    }\n",
       "\n",
       "    .dataframe thead th {\n",
       "        text-align: right;\n",
       "    }\n",
       "</style>\n",
       "<table border=\"1\" class=\"dataframe\">\n",
       "  <thead>\n",
       "    <tr style=\"text-align: right;\">\n",
       "      <th></th>\n",
       "      <th>numRows</th>\n",
       "      <th>numColumns</th>\n",
       "      <th>initialDensity</th>\n",
       "      <th>numMines</th>\n",
       "      <th>status</th>\n",
       "      <th>numMoves</th>\n",
       "      <th>numTilesCleared</th>\n",
       "      <th>elapsedMillis</th>\n",
       "    </tr>\n",
       "  </thead>\n",
       "  <tbody>\n",
       "    <tr>\n",
       "      <th>0</th>\n",
       "      <td>9</td>\n",
       "      <td>9</td>\n",
       "      <td>0.0</td>\n",
       "      <td>0</td>\n",
       "      <td>WIN</td>\n",
       "      <td>1</td>\n",
       "      <td>81</td>\n",
       "      <td>7</td>\n",
       "    </tr>\n",
       "    <tr>\n",
       "      <th>1</th>\n",
       "      <td>9</td>\n",
       "      <td>9</td>\n",
       "      <td>0.0</td>\n",
       "      <td>0</td>\n",
       "      <td>WIN</td>\n",
       "      <td>1</td>\n",
       "      <td>81</td>\n",
       "      <td>0</td>\n",
       "    </tr>\n",
       "    <tr>\n",
       "      <th>2</th>\n",
       "      <td>9</td>\n",
       "      <td>9</td>\n",
       "      <td>0.0</td>\n",
       "      <td>0</td>\n",
       "      <td>WIN</td>\n",
       "      <td>1</td>\n",
       "      <td>81</td>\n",
       "      <td>1</td>\n",
       "    </tr>\n",
       "    <tr>\n",
       "      <th>3</th>\n",
       "      <td>9</td>\n",
       "      <td>9</td>\n",
       "      <td>0.0</td>\n",
       "      <td>0</td>\n",
       "      <td>WIN</td>\n",
       "      <td>1</td>\n",
       "      <td>81</td>\n",
       "      <td>1</td>\n",
       "    </tr>\n",
       "    <tr>\n",
       "      <th>4</th>\n",
       "      <td>9</td>\n",
       "      <td>9</td>\n",
       "      <td>0.0</td>\n",
       "      <td>0</td>\n",
       "      <td>WIN</td>\n",
       "      <td>1</td>\n",
       "      <td>81</td>\n",
       "      <td>1</td>\n",
       "    </tr>\n",
       "    <tr>\n",
       "      <th>...</th>\n",
       "      <td>...</td>\n",
       "      <td>...</td>\n",
       "      <td>...</td>\n",
       "      <td>...</td>\n",
       "      <td>...</td>\n",
       "      <td>...</td>\n",
       "      <td>...</td>\n",
       "      <td>...</td>\n",
       "    </tr>\n",
       "    <tr>\n",
       "      <th>81995</th>\n",
       "      <td>9</td>\n",
       "      <td>9</td>\n",
       "      <td>1.0</td>\n",
       "      <td>81</td>\n",
       "      <td>LOSE</td>\n",
       "      <td>1</td>\n",
       "      <td>0</td>\n",
       "      <td>1</td>\n",
       "    </tr>\n",
       "    <tr>\n",
       "      <th>81996</th>\n",
       "      <td>9</td>\n",
       "      <td>9</td>\n",
       "      <td>1.0</td>\n",
       "      <td>81</td>\n",
       "      <td>LOSE</td>\n",
       "      <td>1</td>\n",
       "      <td>0</td>\n",
       "      <td>0</td>\n",
       "    </tr>\n",
       "    <tr>\n",
       "      <th>81997</th>\n",
       "      <td>9</td>\n",
       "      <td>9</td>\n",
       "      <td>1.0</td>\n",
       "      <td>81</td>\n",
       "      <td>LOSE</td>\n",
       "      <td>1</td>\n",
       "      <td>0</td>\n",
       "      <td>0</td>\n",
       "    </tr>\n",
       "    <tr>\n",
       "      <th>81998</th>\n",
       "      <td>9</td>\n",
       "      <td>9</td>\n",
       "      <td>1.0</td>\n",
       "      <td>81</td>\n",
       "      <td>LOSE</td>\n",
       "      <td>1</td>\n",
       "      <td>0</td>\n",
       "      <td>0</td>\n",
       "    </tr>\n",
       "    <tr>\n",
       "      <th>81999</th>\n",
       "      <td>9</td>\n",
       "      <td>9</td>\n",
       "      <td>1.0</td>\n",
       "      <td>81</td>\n",
       "      <td>LOSE</td>\n",
       "      <td>1</td>\n",
       "      <td>0</td>\n",
       "      <td>1</td>\n",
       "    </tr>\n",
       "  </tbody>\n",
       "</table>\n",
       "<p>82000 rows × 8 columns</p>\n",
       "</div>"
      ],
      "text/plain": [
       "       numRows  numColumns  initialDensity  numMines status  numMoves  \\\n",
       "0            9           9             0.0         0    WIN         1   \n",
       "1            9           9             0.0         0    WIN         1   \n",
       "2            9           9             0.0         0    WIN         1   \n",
       "3            9           9             0.0         0    WIN         1   \n",
       "4            9           9             0.0         0    WIN         1   \n",
       "...        ...         ...             ...       ...    ...       ...   \n",
       "81995        9           9             1.0        81   LOSE         1   \n",
       "81996        9           9             1.0        81   LOSE         1   \n",
       "81997        9           9             1.0        81   LOSE         1   \n",
       "81998        9           9             1.0        81   LOSE         1   \n",
       "81999        9           9             1.0        81   LOSE         1   \n",
       "\n",
       "       numTilesCleared  elapsedMillis  \n",
       "0                   81              7  \n",
       "1                   81              0  \n",
       "2                   81              1  \n",
       "3                   81              1  \n",
       "4                   81              1  \n",
       "...                ...            ...  \n",
       "81995                0              1  \n",
       "81996                0              0  \n",
       "81997                0              0  \n",
       "81998                0              0  \n",
       "81999                0              1  \n",
       "\n",
       "[82000 rows x 8 columns]"
      ]
     },
     "execution_count": 85,
     "metadata": {},
     "output_type": "execute_result"
    }
   ],
   "source": [
    "df = pd.read_csv(\"../data/test.csv\")\n",
    "df"
   ]
  },
  {
   "attachments": {},
   "cell_type": "markdown",
   "metadata": {},
   "source": [
    "### Some helper functions"
   ]
  },
  {
   "attachments": {},
   "cell_type": "markdown",
   "metadata": {},
   "source": [
    "Recall the densities of the different difficulties:\n",
    "- $\\rho_\\text{easy} = 0.1234567901$.\n",
    "- $\\rho_\\text{medium} = 0.15625$.\n",
    "- $\\rho_\\text{hard} = 0.20625$.\n",
    "- $\\rho_\\text{expert} = 0.25$.\n",
    "\n",
    "<u>Main idea:</u> We can use the 9x9 board data to approximate the win rates of the probabilistic algorithm for the different difficulty games "
   ]
  },
  {
   "cell_type": "code",
   "execution_count": 86,
   "metadata": {},
   "outputs": [],
   "source": [
    "densities = {\n",
    "    \"easy\": 0.1234567901, \n",
    "    \"medium\": 0.15625, \n",
    "    \"hard\": 0.20625, \n",
    "    \"expert\": 0.25\n",
    "}"
   ]
  },
  {
   "attachments": {},
   "cell_type": "markdown",
   "metadata": {},
   "source": [
    "Function to get the rows of a DataFrame with intialDensity = density ± epsilon"
   ]
  },
  {
   "cell_type": "code",
   "execution_count": 87,
   "metadata": {},
   "outputs": [],
   "source": [
    "def has_density(df, density, epsilon = 0.005):\n",
    "    return df[(df[\"initialDensity\"] >= (density - epsilon)) & (df[\"initialDensity\"] <= (density + epsilon))]"
   ]
  },
  {
   "attachments": {},
   "cell_type": "markdown",
   "metadata": {},
   "source": [
    "Function that returns a dataframe with rows with all initialDensity = density ± epsilon for each density in a passed in dictionary of difficulty:density mapping"
   ]
  },
  {
   "cell_type": "code",
   "execution_count": 88,
   "metadata": {},
   "outputs": [],
   "source": [
    "def has_densities(df, densities = densities, epsilon = 0.005):\n",
    "    filtered_rows = []\n",
    "    for difficulty, density in densities.items():\n",
    "        filtered_rows.append(has_density(df, density, epsilon).assign(approxDifficulty = difficulty))\n",
    "    return pd.concat(filtered_rows, ignore_index = True)"
   ]
  },
  {
   "attachments": {},
   "cell_type": "markdown",
   "metadata": {},
   "source": [
    "Function that returns a DataFrame with a new column which holds the normalized values of a given column, based on a known \"key\" cell, e.g. difficulty = \"easy\". Thus, we can do something like normalize runtime based on the runtime of the \"easy\" difficulty.\n",
    "\n",
    "This gives us insight into things like how much slower/faster the runtime is relative to the easy difficulty."
   ]
  },
  {
   "cell_type": "code",
   "execution_count": 89,
   "metadata": {},
   "outputs": [],
   "source": [
    "def normalize_column_by_key(df, column_to_normalize: str, key_column: str = \"approxDifficulty\", key_value: str = \"easy\"):\n",
    "    df_norm = df.copy()\n",
    "    df_norm[column_to_normalize + \"Normalized\"] = df_norm[column_to_normalize] / df_norm.loc[df[key_column] == key_value, column_to_normalize].values[0]\n",
    "    return df_norm"
   ]
  },
  {
   "attachments": {},
   "cell_type": "markdown",
   "metadata": {},
   "source": [
    "Similar, but instead we normalize by the minimum value in the column we are normalizing"
   ]
  },
  {
   "cell_type": "code",
   "execution_count": 127,
   "metadata": {},
   "outputs": [],
   "source": [
    "def normalize_column_by_min(df, column_to_normalize: str):\n",
    "    return normalize_column_by_key(df, column_to_normalize, column_to_normalize, df[column_to_normalize].min())\n"
   ]
  },
  {
   "attachments": {},
   "cell_type": "markdown",
   "metadata": {},
   "source": [
    "Function that:\n",
    "1. Finds rows that have given density values\n",
    "2. Normalizes by a given \"key\""
   ]
  },
  {
   "cell_type": "code",
   "execution_count": 128,
   "metadata": {},
   "outputs": [],
   "source": [
    "def approx_difficulty_and_normalize_column_by_key(df, column_to_normalize, key_column: str = \"approxDifficulty\", key_value: str = \"easy\"):\n",
    "    return df.pipe(has_densities).pipe(normalize_column_by_key, column_to_normalize, key_column, key_value)"
   ]
  },
  {
   "cell_type": "code",
   "execution_count": 129,
   "metadata": {},
   "outputs": [],
   "source": [
    "def approx_difficulty_and_normalize_column_by_min(df, column_to_normalize):\n",
    "    return df.pipe(has_densities).pipe(normalize_column_by_min, column_to_normalize)"
   ]
  },
  {
   "attachments": {},
   "cell_type": "markdown",
   "metadata": {},
   "source": [
    "Function to plot a column by density"
   ]
  },
  {
   "cell_type": "code",
   "execution_count": 130,
   "metadata": {},
   "outputs": [],
   "source": [
    "def plot_column_by_density(df, column, y_label):\n",
    "    plt.plot(df[\"initialDensity\"], df[column])\n",
    "    plt.xlabel(\"Density\")\n",
    "    plt.ylabel(y_label)\n",
    "    plt.title(y_label + \" vs Density\")\n",
    "    plt.show()"
   ]
  },
  {
   "attachments": {},
   "cell_type": "markdown",
   "metadata": {},
   "source": [
    "### 1. Win rate"
   ]
  },
  {
   "attachments": {},
   "cell_type": "markdown",
   "metadata": {},
   "source": [
    "Function to calculate the win rate per group"
   ]
  },
  {
   "cell_type": "code",
   "execution_count": 131,
   "metadata": {},
   "outputs": [],
   "source": [
    "def win_rate(group):\n",
    "    return pd.Series({\"winRate\": len(group[group[\"status\"] == \"WIN\"]) / len(group[\"status\"])})"
   ]
  },
  {
   "attachments": {},
   "cell_type": "markdown",
   "metadata": {},
   "source": [
    "Group by initial density and then find the win rate by density by applying the above function"
   ]
  },
  {
   "cell_type": "code",
   "execution_count": 132,
   "metadata": {},
   "outputs": [],
   "source": [
    "winrate_df = df.groupby([\"initialDensity\"]).apply(lambda x : win_rate(x))[\"winRate\"].reset_index()"
   ]
  },
  {
   "cell_type": "code",
   "execution_count": 133,
   "metadata": {},
   "outputs": [
    {
     "data": {
      "image/png": "[encoded data removed]",
      "text/plain": [
       "<Figure size 432x288 with 1 Axes>"
      ]
     },
     "metadata": {
      "needs_background": "light"
     },
     "output_type": "display_data"
    }
   ],
   "source": [
    "plot_column_by_density(winrate_df, \"winRate\", \"Win Rate\")"
   ]
  },
  {
   "attachments": {},
   "cell_type": "markdown",
   "metadata": {},
   "source": [
    "There is a spike at numMines = 80 because we are guaranteed to start on a non-mine, and this is the only non-mine there is."
   ]
  },
  {
   "attachments": {},
   "cell_type": "markdown",
   "metadata": {},
   "source": [
    "Here we see the win rates for the approximate difficulties"
   ]
  },
  {
   "cell_type": "code",
   "execution_count": 134,
   "metadata": {},
   "outputs": [
    {
     "data": {
      "text/html": [
       "<div>\n",
       "<style scoped>\n",
       "    .dataframe tbody tr th:only-of-type {\n",
       "        vertical-align: middle;\n",
       "    }\n",
       "\n",
       "    .dataframe tbody tr th {\n",
       "        vertical-align: top;\n",
       "    }\n",
       "\n",
       "    .dataframe thead th {\n",
       "        text-align: right;\n",
       "    }\n",
       "</style>\n",
       "<table border=\"1\" class=\"dataframe\">\n",
       "  <thead>\n",
       "    <tr style=\"text-align: right;\">\n",
       "      <th></th>\n",
       "      <th>initialDensity</th>\n",
       "      <th>winRate</th>\n",
       "      <th>approxDifficulty</th>\n",
       "      <th>winRateNormalized</th>\n",
       "    </tr>\n",
       "  </thead>\n",
       "  <tbody>\n",
       "    <tr>\n",
       "      <th>0</th>\n",
       "      <td>0.123457</td>\n",
       "      <td>0.821</td>\n",
       "      <td>easy</td>\n",
       "      <td>1.000000</td>\n",
       "    </tr>\n",
       "    <tr>\n",
       "      <th>1</th>\n",
       "      <td>0.160494</td>\n",
       "      <td>0.722</td>\n",
       "      <td>medium</td>\n",
       "      <td>0.879415</td>\n",
       "    </tr>\n",
       "    <tr>\n",
       "      <th>2</th>\n",
       "      <td>0.209877</td>\n",
       "      <td>0.416</td>\n",
       "      <td>hard</td>\n",
       "      <td>0.506699</td>\n",
       "    </tr>\n",
       "    <tr>\n",
       "      <th>3</th>\n",
       "      <td>0.246914</td>\n",
       "      <td>0.215</td>\n",
       "      <td>expert</td>\n",
       "      <td>0.261876</td>\n",
       "    </tr>\n",
       "  </tbody>\n",
       "</table>\n",
       "</div>"
      ],
      "text/plain": [
       "   initialDensity  winRate approxDifficulty  winRateNormalized\n",
       "0        0.123457    0.821             easy           1.000000\n",
       "1        0.160494    0.722           medium           0.879415\n",
       "2        0.209877    0.416             hard           0.506699\n",
       "3        0.246914    0.215           expert           0.261876"
      ]
     },
     "execution_count": 134,
     "metadata": {},
     "output_type": "execute_result"
    }
   ],
   "source": [
    "approx_difficulty_and_normalize_column_by_key(winrate_df, \"winRate\")"
   ]
  },
  {
   "attachments": {},
   "cell_type": "markdown",
   "metadata": {},
   "source": [
    "Normalizing by the minimum might give us a better idea:"
   ]
  },
  {
   "cell_type": "code",
   "execution_count": 135,
   "metadata": {},
   "outputs": [
    {
     "data": {
      "text/html": [
       "<div>\n",
       "<style scoped>\n",
       "    .dataframe tbody tr th:only-of-type {\n",
       "        vertical-align: middle;\n",
       "    }\n",
       "\n",
       "    .dataframe tbody tr th {\n",
       "        vertical-align: top;\n",
       "    }\n",
       "\n",
       "    .dataframe thead th {\n",
       "        text-align: right;\n",
       "    }\n",
       "</style>\n",
       "<table border=\"1\" class=\"dataframe\">\n",
       "  <thead>\n",
       "    <tr style=\"text-align: right;\">\n",
       "      <th></th>\n",
       "      <th>initialDensity</th>\n",
       "      <th>winRate</th>\n",
       "      <th>approxDifficulty</th>\n",
       "      <th>winRateNormalized</th>\n",
       "    </tr>\n",
       "  </thead>\n",
       "  <tbody>\n",
       "    <tr>\n",
       "      <th>0</th>\n",
       "      <td>0.123457</td>\n",
       "      <td>0.821</td>\n",
       "      <td>easy</td>\n",
       "      <td>3.818605</td>\n",
       "    </tr>\n",
       "    <tr>\n",
       "      <th>1</th>\n",
       "      <td>0.160494</td>\n",
       "      <td>0.722</td>\n",
       "      <td>medium</td>\n",
       "      <td>3.358140</td>\n",
       "    </tr>\n",
       "    <tr>\n",
       "      <th>2</th>\n",
       "      <td>0.209877</td>\n",
       "      <td>0.416</td>\n",
       "      <td>hard</td>\n",
       "      <td>1.934884</td>\n",
       "    </tr>\n",
       "    <tr>\n",
       "      <th>3</th>\n",
       "      <td>0.246914</td>\n",
       "      <td>0.215</td>\n",
       "      <td>expert</td>\n",
       "      <td>1.000000</td>\n",
       "    </tr>\n",
       "  </tbody>\n",
       "</table>\n",
       "</div>"
      ],
      "text/plain": [
       "   initialDensity  winRate approxDifficulty  winRateNormalized\n",
       "0        0.123457    0.821             easy           3.818605\n",
       "1        0.160494    0.722           medium           3.358140\n",
       "2        0.209877    0.416             hard           1.934884\n",
       "3        0.246914    0.215           expert           1.000000"
      ]
     },
     "execution_count": 135,
     "metadata": {},
     "output_type": "execute_result"
    }
   ],
   "source": [
    "approx_difficulty_and_normalize_column_by_min(winrate_df, \"winRate\")"
   ]
  },
  {
   "attachments": {},
   "cell_type": "markdown",
   "metadata": {},
   "source": [
    "Relative to expert difficulty, we win around 3.8x as much in easy, 3.4x in medium, and 1.9x in hard."
   ]
  },
  {
   "attachments": {},
   "cell_type": "markdown",
   "metadata": {},
   "source": [
    "Let's try to find the maximal density such that winRate > 0"
   ]
  },
  {
   "cell_type": "code",
   "execution_count": 136,
   "metadata": {},
   "outputs": [
    {
     "data": {
      "text/html": [
       "<div>\n",
       "<style scoped>\n",
       "    .dataframe tbody tr th:only-of-type {\n",
       "        vertical-align: middle;\n",
       "    }\n",
       "\n",
       "    .dataframe tbody tr th {\n",
       "        vertical-align: top;\n",
       "    }\n",
       "\n",
       "    .dataframe thead th {\n",
       "        text-align: right;\n",
       "    }\n",
       "</style>\n",
       "<table border=\"1\" class=\"dataframe\">\n",
       "  <thead>\n",
       "    <tr style=\"text-align: right;\">\n",
       "      <th></th>\n",
       "      <th>initialDensity</th>\n",
       "      <th>winRate</th>\n",
       "    </tr>\n",
       "  </thead>\n",
       "  <tbody>\n",
       "    <tr>\n",
       "      <th>29</th>\n",
       "      <td>0.358025</td>\n",
       "      <td>0.004</td>\n",
       "    </tr>\n",
       "    <tr>\n",
       "      <th>30</th>\n",
       "      <td>0.370370</td>\n",
       "      <td>0.005</td>\n",
       "    </tr>\n",
       "    <tr>\n",
       "      <th>33</th>\n",
       "      <td>0.407407</td>\n",
       "      <td>0.001</td>\n",
       "    </tr>\n",
       "    <tr>\n",
       "      <th>79</th>\n",
       "      <td>0.975309</td>\n",
       "      <td>0.027</td>\n",
       "    </tr>\n",
       "    <tr>\n",
       "      <th>80</th>\n",
       "      <td>0.987654</td>\n",
       "      <td>1.000</td>\n",
       "    </tr>\n",
       "  </tbody>\n",
       "</table>\n",
       "</div>"
      ],
      "text/plain": [
       "    initialDensity  winRate\n",
       "29        0.358025    0.004\n",
       "30        0.370370    0.005\n",
       "33        0.407407    0.001\n",
       "79        0.975309    0.027\n",
       "80        0.987654    1.000"
      ]
     },
     "execution_count": 136,
     "metadata": {},
     "output_type": "execute_result"
    }
   ],
   "source": [
    "winrate_df[winrate_df[\"winRate\"] > 0].tail()"
   ]
  },
  {
   "attachments": {},
   "cell_type": "markdown",
   "metadata": {},
   "source": [
    "So, we see that 0.4075 and 0.9753 are the maximal densities such that we can win (besides the trivial 80)"
   ]
  },
  {
   "attachments": {},
   "cell_type": "markdown",
   "metadata": {},
   "source": [
    "### 2. Runtime"
   ]
  },
  {
   "cell_type": "code",
   "execution_count": 137,
   "metadata": {},
   "outputs": [],
   "source": [
    "mean_runtime_df = df.groupby([\"initialDensity\"]).mean(\"elapsedMillis\")[\"elapsedMillis\"].reset_index()"
   ]
  },
  {
   "cell_type": "code",
   "execution_count": 138,
   "metadata": {},
   "outputs": [
    {
     "data": {
      "image/png": "[encoded data removed]",
      "text/plain": [
       "<Figure size 432x288 with 1 Axes>"
      ]
     },
     "metadata": {
      "needs_background": "light"
     },
     "output_type": "display_data"
    }
   ],
   "source": [
    "plot_column_by_density(mean_runtime_df, \"elapsedMillis\", \"Average Runtime (ms)\")"
   ]
  },
  {
   "attachments": {},
   "cell_type": "markdown",
   "metadata": {},
   "source": [
    "Normalized runtime by the runtime of the \"easy\" approximate difficulty"
   ]
  },
  {
   "cell_type": "code",
   "execution_count": 139,
   "metadata": {},
   "outputs": [
    {
     "data": {
      "text/html": [
       "<div>\n",
       "<style scoped>\n",
       "    .dataframe tbody tr th:only-of-type {\n",
       "        vertical-align: middle;\n",
       "    }\n",
       "\n",
       "    .dataframe tbody tr th {\n",
       "        vertical-align: top;\n",
       "    }\n",
       "\n",
       "    .dataframe thead th {\n",
       "        text-align: right;\n",
       "    }\n",
       "</style>\n",
       "<table border=\"1\" class=\"dataframe\">\n",
       "  <thead>\n",
       "    <tr style=\"text-align: right;\">\n",
       "      <th></th>\n",
       "      <th>initialDensity</th>\n",
       "      <th>elapsedMillis</th>\n",
       "      <th>approxDifficulty</th>\n",
       "      <th>elapsedMillisNormalized</th>\n",
       "    </tr>\n",
       "  </thead>\n",
       "  <tbody>\n",
       "    <tr>\n",
       "      <th>0</th>\n",
       "      <td>0.123457</td>\n",
       "      <td>3.469</td>\n",
       "      <td>easy</td>\n",
       "      <td>1.000000</td>\n",
       "    </tr>\n",
       "    <tr>\n",
       "      <th>1</th>\n",
       "      <td>0.160494</td>\n",
       "      <td>5.025</td>\n",
       "      <td>medium</td>\n",
       "      <td>1.448544</td>\n",
       "    </tr>\n",
       "    <tr>\n",
       "      <th>2</th>\n",
       "      <td>0.209877</td>\n",
       "      <td>8.452</td>\n",
       "      <td>hard</td>\n",
       "      <td>2.436437</td>\n",
       "    </tr>\n",
       "    <tr>\n",
       "      <th>3</th>\n",
       "      <td>0.246914</td>\n",
       "      <td>8.474</td>\n",
       "      <td>expert</td>\n",
       "      <td>2.442779</td>\n",
       "    </tr>\n",
       "  </tbody>\n",
       "</table>\n",
       "</div>"
      ],
      "text/plain": [
       "   initialDensity  elapsedMillis approxDifficulty  elapsedMillisNormalized\n",
       "0        0.123457          3.469             easy                 1.000000\n",
       "1        0.160494          5.025           medium                 1.448544\n",
       "2        0.209877          8.452             hard                 2.436437\n",
       "3        0.246914          8.474           expert                 2.442779"
      ]
     },
     "execution_count": 139,
     "metadata": {},
     "output_type": "execute_result"
    }
   ],
   "source": [
    "approx_difficulty_and_normalize_column_by_key(mean_runtime_df, \"elapsedMillis\")"
   ]
  },
  {
   "attachments": {},
   "cell_type": "markdown",
   "metadata": {},
   "source": [
    "So, relative to the easy difficulty, medium games take 1.4 times longer, hard and expert both take around 2.4 times longer."
   ]
  },
  {
   "attachments": {},
   "cell_type": "markdown",
   "metadata": {},
   "source": [
    "### 3. Number of moves\n",
    "\n",
    "Mean turns of all games"
   ]
  },
  {
   "cell_type": "code",
   "execution_count": 140,
   "metadata": {},
   "outputs": [],
   "source": [
    "mean_turns_df = df.groupby([\"initialDensity\"]).mean(\"numMoves\")[\"numMoves\"].reset_index()"
   ]
  },
  {
   "cell_type": "code",
   "execution_count": 141,
   "metadata": {},
   "outputs": [
    {
     "data": {
      "image/png": "[encoded data removed]",
      "text/plain": [
       "<Figure size 432x288 with 1 Axes>"
      ]
     },
     "metadata": {
      "needs_background": "light"
     },
     "output_type": "display_data"
    }
   ],
   "source": [
    "plot_column_by_density(mean_turns_df, \"numMoves\", \"Mean # Moves\")"
   ]
  },
  {
   "attachments": {},
   "cell_type": "markdown",
   "metadata": {},
   "source": [
    "Normalized data"
   ]
  },
  {
   "cell_type": "code",
   "execution_count": 142,
   "metadata": {},
   "outputs": [
    {
     "data": {
      "text/html": [
       "<div>\n",
       "<style scoped>\n",
       "    .dataframe tbody tr th:only-of-type {\n",
       "        vertical-align: middle;\n",
       "    }\n",
       "\n",
       "    .dataframe tbody tr th {\n",
       "        vertical-align: top;\n",
       "    }\n",
       "\n",
       "    .dataframe thead th {\n",
       "        text-align: right;\n",
       "    }\n",
       "</style>\n",
       "<table border=\"1\" class=\"dataframe\">\n",
       "  <thead>\n",
       "    <tr style=\"text-align: right;\">\n",
       "      <th></th>\n",
       "      <th>initialDensity</th>\n",
       "      <th>numMoves</th>\n",
       "      <th>approxDifficulty</th>\n",
       "      <th>numMovesNormalized</th>\n",
       "    </tr>\n",
       "  </thead>\n",
       "  <tbody>\n",
       "    <tr>\n",
       "      <th>0</th>\n",
       "      <td>0.123457</td>\n",
       "      <td>17.228</td>\n",
       "      <td>easy</td>\n",
       "      <td>1.000000</td>\n",
       "    </tr>\n",
       "    <tr>\n",
       "      <th>1</th>\n",
       "      <td>0.160494</td>\n",
       "      <td>22.710</td>\n",
       "      <td>medium</td>\n",
       "      <td>1.318203</td>\n",
       "    </tr>\n",
       "    <tr>\n",
       "      <th>2</th>\n",
       "      <td>0.209877</td>\n",
       "      <td>21.618</td>\n",
       "      <td>hard</td>\n",
       "      <td>1.254818</td>\n",
       "    </tr>\n",
       "    <tr>\n",
       "      <th>3</th>\n",
       "      <td>0.246914</td>\n",
       "      <td>18.466</td>\n",
       "      <td>expert</td>\n",
       "      <td>1.071860</td>\n",
       "    </tr>\n",
       "  </tbody>\n",
       "</table>\n",
       "</div>"
      ],
      "text/plain": [
       "   initialDensity  numMoves approxDifficulty  numMovesNormalized\n",
       "0        0.123457    17.228             easy            1.000000\n",
       "1        0.160494    22.710           medium            1.318203\n",
       "2        0.209877    21.618             hard            1.254818\n",
       "3        0.246914    18.466           expert            1.071860"
      ]
     },
     "execution_count": 142,
     "metadata": {},
     "output_type": "execute_result"
    }
   ],
   "source": [
    "approx_difficulty_and_normalize_column_by_key(mean_turns_df, \"numMoves\")"
   ]
  },
  {
   "attachments": {},
   "cell_type": "markdown",
   "metadata": {},
   "source": [
    "We see that medium difficulty plays 1.32x more moves than easy difficulty. Expert difficulty has about the same mean number of moves (not accounting for win/lose)"
   ]
  },
  {
   "attachments": {},
   "cell_type": "markdown",
   "metadata": {},
   "source": [
    "#### Any difference between winners and losers?"
   ]
  },
  {
   "attachments": {},
   "cell_type": "markdown",
   "metadata": {},
   "source": [
    "##### Mean turns of winners"
   ]
  },
  {
   "cell_type": "code",
   "execution_count": 143,
   "metadata": {},
   "outputs": [],
   "source": [
    "mean_turns_winners = mean_turns_df = df[df[\"status\"] == \"WIN\"].groupby([\"initialDensity\"]).mean(\"numMoves\")[\"numMoves\"].reset_index()"
   ]
  },
  {
   "cell_type": "code",
   "execution_count": 144,
   "metadata": {},
   "outputs": [
    {
     "data": {
      "image/png": "[encoded data removed]",
      "text/plain": [
       "<Figure size 432x288 with 1 Axes>"
      ]
     },
     "metadata": {
      "needs_background": "light"
     },
     "output_type": "display_data"
    }
   ],
   "source": [
    "plot_column_by_density(mean_turns_winners,\"numMoves\", \"Mean # Moves\")"
   ]
  },
  {
   "cell_type": "code",
   "execution_count": 147,
   "metadata": {},
   "outputs": [
    {
     "data": {
      "text/html": [
       "<div>\n",
       "<style scoped>\n",
       "    .dataframe tbody tr th:only-of-type {\n",
       "        vertical-align: middle;\n",
       "    }\n",
       "\n",
       "    .dataframe tbody tr th {\n",
       "        vertical-align: top;\n",
       "    }\n",
       "\n",
       "    .dataframe thead th {\n",
       "        text-align: right;\n",
       "    }\n",
       "</style>\n",
       "<table border=\"1\" class=\"dataframe\">\n",
       "  <thead>\n",
       "    <tr style=\"text-align: right;\">\n",
       "      <th></th>\n",
       "      <th>initialDensity</th>\n",
       "      <th>numMoves</th>\n",
       "      <th>approxDifficulty</th>\n",
       "      <th>numMovesNormalized</th>\n",
       "    </tr>\n",
       "  </thead>\n",
       "  <tbody>\n",
       "    <tr>\n",
       "      <th>0</th>\n",
       "      <td>0.123457</td>\n",
       "      <td>20.034105</td>\n",
       "      <td>easy</td>\n",
       "      <td>1.000000</td>\n",
       "    </tr>\n",
       "    <tr>\n",
       "      <th>1</th>\n",
       "      <td>0.160494</td>\n",
       "      <td>28.006925</td>\n",
       "      <td>medium</td>\n",
       "      <td>1.397962</td>\n",
       "    </tr>\n",
       "    <tr>\n",
       "      <th>2</th>\n",
       "      <td>0.209877</td>\n",
       "      <td>36.310096</td>\n",
       "      <td>hard</td>\n",
       "      <td>1.812414</td>\n",
       "    </tr>\n",
       "    <tr>\n",
       "      <th>3</th>\n",
       "      <td>0.246914</td>\n",
       "      <td>40.516279</td>\n",
       "      <td>expert</td>\n",
       "      <td>2.022365</td>\n",
       "    </tr>\n",
       "  </tbody>\n",
       "</table>\n",
       "</div>"
      ],
      "text/plain": [
       "   initialDensity   numMoves approxDifficulty  numMovesNormalized\n",
       "0        0.123457  20.034105             easy            1.000000\n",
       "1        0.160494  28.006925           medium            1.397962\n",
       "2        0.209877  36.310096             hard            1.812414\n",
       "3        0.246914  40.516279           expert            2.022365"
      ]
     },
     "execution_count": 147,
     "metadata": {},
     "output_type": "execute_result"
    }
   ],
   "source": [
    "approx_difficulty_and_normalize_column_by_key(mean_turns_winners, \"numMoves\")"
   ]
  },
  {
   "attachments": {},
   "cell_type": "markdown",
   "metadata": {},
   "source": [
    "It takes around twice as many moves to win a hard and expert game compared to an easy game."
   ]
  },
  {
   "attachments": {},
   "cell_type": "markdown",
   "metadata": {},
   "source": [
    "##### Mean turns of losers"
   ]
  },
  {
   "cell_type": "code",
   "execution_count": 145,
   "metadata": {},
   "outputs": [],
   "source": [
    "mean_turns_losers = mean_turns_df = df[df[\"status\"] == \"LOSE\"].groupby([\"initialDensity\"]).mean(\"numMoves\")[\"numMoves\"].reset_index()"
   ]
  },
  {
   "cell_type": "code",
   "execution_count": 146,
   "metadata": {},
   "outputs": [
    {
     "data": {
      "image/png": "[encoded data removed]",
      "text/plain": [
       "<Figure size 432x288 with 1 Axes>"
      ]
     },
     "metadata": {
      "needs_background": "light"
     },
     "output_type": "display_data"
    }
   ],
   "source": [
    "plot_column_by_density(mean_turns_losers,\"numMoves\", \"Mean # Moves\")"
   ]
  },
  {
   "cell_type": "code",
   "execution_count": 148,
   "metadata": {},
   "outputs": [
    {
     "data": {
      "text/html": [
       "<div>\n",
       "<style scoped>\n",
       "    .dataframe tbody tr th:only-of-type {\n",
       "        vertical-align: middle;\n",
       "    }\n",
       "\n",
       "    .dataframe tbody tr th {\n",
       "        vertical-align: top;\n",
       "    }\n",
       "\n",
       "    .dataframe thead th {\n",
       "        text-align: right;\n",
       "    }\n",
       "</style>\n",
       "<table border=\"1\" class=\"dataframe\">\n",
       "  <thead>\n",
       "    <tr style=\"text-align: right;\">\n",
       "      <th></th>\n",
       "      <th>initialDensity</th>\n",
       "      <th>numMoves</th>\n",
       "      <th>approxDifficulty</th>\n",
       "      <th>numMovesNormalized</th>\n",
       "    </tr>\n",
       "  </thead>\n",
       "  <tbody>\n",
       "    <tr>\n",
       "      <th>0</th>\n",
       "      <td>0.123457</td>\n",
       "      <td>4.357542</td>\n",
       "      <td>easy</td>\n",
       "      <td>1.000000</td>\n",
       "    </tr>\n",
       "    <tr>\n",
       "      <th>1</th>\n",
       "      <td>0.160494</td>\n",
       "      <td>8.953237</td>\n",
       "      <td>medium</td>\n",
       "      <td>2.054653</td>\n",
       "    </tr>\n",
       "    <tr>\n",
       "      <th>2</th>\n",
       "      <td>0.209877</td>\n",
       "      <td>11.152397</td>\n",
       "      <td>hard</td>\n",
       "      <td>2.559332</td>\n",
       "    </tr>\n",
       "    <tr>\n",
       "      <th>3</th>\n",
       "      <td>0.246914</td>\n",
       "      <td>12.426752</td>\n",
       "      <td>expert</td>\n",
       "      <td>2.851780</td>\n",
       "    </tr>\n",
       "  </tbody>\n",
       "</table>\n",
       "</div>"
      ],
      "text/plain": [
       "   initialDensity   numMoves approxDifficulty  numMovesNormalized\n",
       "0        0.123457   4.357542             easy            1.000000\n",
       "1        0.160494   8.953237           medium            2.054653\n",
       "2        0.209877  11.152397             hard            2.559332\n",
       "3        0.246914  12.426752           expert            2.851780"
      ]
     },
     "execution_count": 148,
     "metadata": {},
     "output_type": "execute_result"
    }
   ],
   "source": [
    "approx_difficulty_and_normalize_column_by_key(mean_turns_losers, \"numMoves\")"
   ]
  },
  {
   "attachments": {},
   "cell_type": "markdown",
   "metadata": {},
   "source": [
    "Compared to easy difficulty, on average, there are 2.1x as many moves until you lose in medium, 2.6 in hard, and 2.9x in expert. Basically, on losing games, the harder the game gets, the more rounds you play until you lose."
   ]
  }
 ],
 "metadata": {
  "kernelspec": {
   "display_name": "Python 3",
   "language": "python",
   "name": "python3"
  },
  "language_info": {
   "codemirror_mode": {
    "name": "ipython",
    "version": 3
   },
   "file_extension": ".py",
   "mimetype": "text/x-python",
   "name": "python",
   "nbconvert_exporter": "python",
   "pygments_lexer": "ipython3",
   "version": "3.9.0"
  },
  "orig_nbformat": 4
 },
 "nbformat": 4,
 "nbformat_minor": 2
}
