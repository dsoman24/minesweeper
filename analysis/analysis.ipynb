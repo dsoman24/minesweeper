{
 "cells": [
  {
   "attachments": {},
   "cell_type": "markdown",
   "metadata": {},
   "source": [
    "# Minesweeper Bot Analysis\n",
    "Primarily an analysis of my probabilistic strategy.\n",
    "\n",
    "Insights:\n",
    "1. Runtime by density\n",
    "2. Win rate by density\n",
    "3. Turns taken to win by density\n",
    "    - How many tiles are cleared?\n",
    "4. Turns taken to lose by density\n",
    "    - How many tiles are cleared?\n",
    "    - How many tiles are left?"
   ]
  },
  {
   "attachments": {},
   "cell_type": "markdown",
   "metadata": {},
   "source": [
    "Import dependencies"
   ]
  },
  {
   "cell_type": "code",
   "execution_count": 110,
   "metadata": {},
   "outputs": [],
   "source": [
    "import pandas as pd\n",
    "import matplotlib.pyplot as plt"
   ]
  },
  {
   "attachments": {},
   "cell_type": "markdown",
   "metadata": {},
   "source": [
    "Read data"
   ]
  },
  {
   "cell_type": "code",
   "execution_count": 111,
   "metadata": {},
   "outputs": [
    {
     "data": {
      "text/html": [
       "<div>\n",
       "<style scoped>\n",
       "    .dataframe tbody tr th:only-of-type {\n",
       "        vertical-align: middle;\n",
       "    }\n",
       "\n",
       "    .dataframe tbody tr th {\n",
       "        vertical-align: top;\n",
       "    }\n",
       "\n",
       "    .dataframe thead th {\n",
       "        text-align: right;\n",
       "    }\n",
       "</style>\n",
       "<table border=\"1\" class=\"dataframe\">\n",
       "  <thead>\n",
       "    <tr style=\"text-align: right;\">\n",
       "      <th></th>\n",
       "      <th>numRows</th>\n",
       "      <th>numColumns</th>\n",
       "      <th>initialDensity</th>\n",
       "      <th>numMines</th>\n",
       "      <th>status</th>\n",
       "      <th>numMoves</th>\n",
       "      <th>numTilesCleared</th>\n",
       "      <th>elapsedMillis</th>\n",
       "    </tr>\n",
       "  </thead>\n",
       "  <tbody>\n",
       "    <tr>\n",
       "      <th>0</th>\n",
       "      <td>9</td>\n",
       "      <td>9</td>\n",
       "      <td>0.0</td>\n",
       "      <td>0</td>\n",
       "      <td>WIN</td>\n",
       "      <td>1</td>\n",
       "      <td>81</td>\n",
       "      <td>26</td>\n",
       "    </tr>\n",
       "    <tr>\n",
       "      <th>1</th>\n",
       "      <td>9</td>\n",
       "      <td>9</td>\n",
       "      <td>0.0</td>\n",
       "      <td>0</td>\n",
       "      <td>WIN</td>\n",
       "      <td>1</td>\n",
       "      <td>81</td>\n",
       "      <td>2</td>\n",
       "    </tr>\n",
       "    <tr>\n",
       "      <th>2</th>\n",
       "      <td>9</td>\n",
       "      <td>9</td>\n",
       "      <td>0.0</td>\n",
       "      <td>0</td>\n",
       "      <td>WIN</td>\n",
       "      <td>1</td>\n",
       "      <td>81</td>\n",
       "      <td>2</td>\n",
       "    </tr>\n",
       "    <tr>\n",
       "      <th>3</th>\n",
       "      <td>9</td>\n",
       "      <td>9</td>\n",
       "      <td>0.0</td>\n",
       "      <td>0</td>\n",
       "      <td>WIN</td>\n",
       "      <td>1</td>\n",
       "      <td>81</td>\n",
       "      <td>3</td>\n",
       "    </tr>\n",
       "    <tr>\n",
       "      <th>4</th>\n",
       "      <td>9</td>\n",
       "      <td>9</td>\n",
       "      <td>0.0</td>\n",
       "      <td>0</td>\n",
       "      <td>WIN</td>\n",
       "      <td>1</td>\n",
       "      <td>81</td>\n",
       "      <td>2</td>\n",
       "    </tr>\n",
       "  </tbody>\n",
       "</table>\n",
       "</div>"
      ],
      "text/plain": [
       "   numRows  numColumns  initialDensity  numMines status  numMoves  \\\n",
       "0        9           9             0.0         0    WIN         1   \n",
       "1        9           9             0.0         0    WIN         1   \n",
       "2        9           9             0.0         0    WIN         1   \n",
       "3        9           9             0.0         0    WIN         1   \n",
       "4        9           9             0.0         0    WIN         1   \n",
       "\n",
       "   numTilesCleared  elapsedMillis  \n",
       "0               81             26  \n",
       "1               81              2  \n",
       "2               81              2  \n",
       "3               81              3  \n",
       "4               81              2  "
      ]
     },
     "execution_count": 111,
     "metadata": {},
     "output_type": "execute_result"
    }
   ],
   "source": [
    "filename = \"mediumsize.csv\"\n",
    "df = pd.read_csv(\"../data/\" + filename)\n",
    "df.head()"
   ]
  },
  {
   "attachments": {},
   "cell_type": "markdown",
   "metadata": {},
   "source": [
    "### About the data\n",
    "The output of the following is an overview of the data collection process."
   ]
  },
  {
   "cell_type": "code",
   "execution_count": 112,
   "metadata": {},
   "outputs": [
    {
     "name": "stdout",
     "output_type": "stream",
     "text": [
      "Max rows: 9\n",
      "Max columns: 9\n",
      "Distinct densities: 82\n",
      "Number of trials: 5000\n",
      "Number of games simulated: 410000\n"
     ]
    }
   ],
   "source": [
    "print(\"Max rows: \" + df.numRows.max().astype(str))\n",
    "print(\"Max columns: \" + df.numColumns.max().astype(str))\n",
    "print(\"Distinct densities: \" + (1 + df.numRows.max() * df.numColumns.max()).astype(str))\n",
    "print(\"Number of trials: \" + df.groupby(\"numMines\").size().min().astype(str))\n",
    "print(\"Number of games simulated: \" + (df.groupby(\"numMines\").size().min() * (1 + df.numRows.max() * df.numColumns.max())).astype(str))\n"
   ]
  },
  {
   "attachments": {},
   "cell_type": "markdown",
   "metadata": {},
   "source": [
    "### Some helper functions"
   ]
  },
  {
   "attachments": {},
   "cell_type": "markdown",
   "metadata": {},
   "source": [
    "These are the densities of the different difficulties:\n",
    "- $\\rho_\\text{easy} = 0.1234567901$. (9x9)\n",
    "- $\\rho_\\text{medium} = 0.15625$. (16x16)\n",
    "- $\\rho_\\text{hard} = 0.20625$. (16x30)\n",
    "- $\\rho_\\text{expert} = 0.25$. (24x3)\n",
    "\n",
    "<u>Main idea:</u> We can use the data to approximate the win rates of the probabilistic algorithm for the different difficulty games "
   ]
  },
  {
   "cell_type": "code",
   "execution_count": 113,
   "metadata": {},
   "outputs": [],
   "source": [
    "densities = {\n",
    "    \"easy\": 0.1234567901, \n",
    "    \"medium\": 0.15625, \n",
    "    \"hard\": 0.20625, \n",
    "    \"expert\": 0.25\n",
    "}"
   ]
  },
  {
   "attachments": {},
   "cell_type": "markdown",
   "metadata": {},
   "source": [
    "Function to get the rows of a DataFrame with intialDensity = density ± epsilon"
   ]
  },
  {
   "cell_type": "code",
   "execution_count": 114,
   "metadata": {},
   "outputs": [],
   "source": [
    "def has_density(df, density, epsilon = 0.005):\n",
    "    return df[(df[\"initialDensity\"] >= (density - epsilon)) & (df[\"initialDensity\"] <= (density + epsilon))]"
   ]
  },
  {
   "attachments": {},
   "cell_type": "markdown",
   "metadata": {},
   "source": [
    "Function that returns a dataframe with rows with all initialDensity = density ± epsilon for each density in a passed in dictionary of difficulty:density mapping"
   ]
  },
  {
   "cell_type": "code",
   "execution_count": 115,
   "metadata": {},
   "outputs": [],
   "source": [
    "def has_densities(df, densities = densities, epsilon = 0.005):\n",
    "    filtered_rows = []\n",
    "    for difficulty, density in densities.items():\n",
    "        filtered_rows.append(has_density(df, density, epsilon).assign(approxDifficulty = difficulty))\n",
    "    return pd.concat(filtered_rows, ignore_index = True)"
   ]
  },
  {
   "attachments": {},
   "cell_type": "markdown",
   "metadata": {},
   "source": [
    "Function that returns a DataFrame with a new column which holds the normalized values of a given column, based on a known \"key\" cell, e.g. difficulty = \"easy\". Thus, we can do something like normalize runtime based on the runtime of the \"easy\" difficulty.\n",
    "\n",
    "This gives us insight into things like how much slower/faster the runtime is relative to the easy difficulty."
   ]
  },
  {
   "cell_type": "code",
   "execution_count": 116,
   "metadata": {},
   "outputs": [],
   "source": [
    "def normalize_column_by_key(df, column_to_normalize: str, key_column: str = \"approxDifficulty\", key_value: str = \"easy\"):\n",
    "    df_norm = df.copy()\n",
    "    df_norm[column_to_normalize + \"Normalized\"] = df_norm[column_to_normalize] / df_norm.loc[df[key_column] == key_value, column_to_normalize].values[0]\n",
    "    return df_norm"
   ]
  },
  {
   "attachments": {},
   "cell_type": "markdown",
   "metadata": {},
   "source": [
    "Similar, but instead we normalize by the minimum value in the column we are normalizing"
   ]
  },
  {
   "cell_type": "code",
   "execution_count": 117,
   "metadata": {},
   "outputs": [],
   "source": [
    "def normalize_column_by_min(df, column_to_normalize: str):\n",
    "    return normalize_column_by_key(df, column_to_normalize, column_to_normalize, df[column_to_normalize].min())\n"
   ]
  },
  {
   "attachments": {},
   "cell_type": "markdown",
   "metadata": {},
   "source": [
    "Function that:\n",
    "1. Finds rows that have given density values\n",
    "2. Normalizes by a given \"key\""
   ]
  },
  {
   "cell_type": "code",
   "execution_count": 118,
   "metadata": {},
   "outputs": [],
   "source": [
    "def approx_difficulty_and_normalize_column_by_key(df, column_to_normalize, key_column: str = \"approxDifficulty\", key_value: str = \"easy\"):\n",
    "    return df.pipe(has_densities).pipe(normalize_column_by_key, column_to_normalize, key_column, key_value)"
   ]
  },
  {
   "cell_type": "code",
   "execution_count": 119,
   "metadata": {},
   "outputs": [],
   "source": [
    "def approx_difficulty_and_normalize_column_by_min(df, column_to_normalize):\n",
    "    return df.pipe(has_densities).pipe(normalize_column_by_min, column_to_normalize)"
   ]
  },
  {
   "attachments": {},
   "cell_type": "markdown",
   "metadata": {},
   "source": [
    "Function to plot a column by density"
   ]
  },
  {
   "cell_type": "code",
   "execution_count": 120,
   "metadata": {},
   "outputs": [],
   "source": [
    "def plot_column_by_density(df, column, y_label):\n",
    "    plt.plot(df[\"initialDensity\"], df[column])\n",
    "    plt.xlabel(\"Density\")\n",
    "    plt.ylabel(y_label)\n",
    "    plt.title(y_label + \" vs Density\")\n",
    "    plt.show()"
   ]
  },
  {
   "attachments": {},
   "cell_type": "markdown",
   "metadata": {},
   "source": [
    "### 1. Win rate"
   ]
  },
  {
   "attachments": {},
   "cell_type": "markdown",
   "metadata": {},
   "source": [
    "Function to calculate the win rate per group"
   ]
  },
  {
   "cell_type": "code",
   "execution_count": 121,
   "metadata": {},
   "outputs": [],
   "source": [
    "def win_rate(group):\n",
    "    return pd.Series({\"winRate\": len(group[group[\"status\"] == \"WIN\"]) / len(group[\"status\"])})"
   ]
  },
  {
   "attachments": {},
   "cell_type": "markdown",
   "metadata": {},
   "source": [
    "Group by initial density and then find the win rate by density by applying the above function"
   ]
  },
  {
   "cell_type": "code",
   "execution_count": 122,
   "metadata": {},
   "outputs": [],
   "source": [
    "winrate_df = df.groupby([\"initialDensity\"]).apply(lambda x : win_rate(x))[\"winRate\"].reset_index()"
   ]
  },
  {
   "cell_type": "code",
   "execution_count": 123,
   "metadata": {},
   "outputs": [
    {
     "data": {
      "image/png": "[encoded data removed]",
      "text/plain": [
       "<Figure size 432x288 with 1 Axes>"
      ]
     },
     "metadata": {
      "needs_background": "light"
     },
     "output_type": "display_data"
    }
   ],
   "source": [
    "plot_column_by_density(winrate_df, \"winRate\", \"Win Rate\")"
   ]
  },
  {
   "attachments": {},
   "cell_type": "markdown",
   "metadata": {},
   "source": [
    "There is a spike at numMines = 80 because we are guaranteed to start on a non-mine, and this is the only non-mine there is."
   ]
  },
  {
   "attachments": {},
   "cell_type": "markdown",
   "metadata": {},
   "source": [
    "Here we see the win rates for the approximate difficulties"
   ]
  },
  {
   "cell_type": "code",
   "execution_count": 124,
   "metadata": {},
   "outputs": [
    {
     "data": {
      "text/html": [
       "<div>\n",
       "<style scoped>\n",
       "    .dataframe tbody tr th:only-of-type {\n",
       "        vertical-align: middle;\n",
       "    }\n",
       "\n",
       "    .dataframe tbody tr th {\n",
       "        vertical-align: top;\n",
       "    }\n",
       "\n",
       "    .dataframe thead th {\n",
       "        text-align: right;\n",
       "    }\n",
       "</style>\n",
       "<table border=\"1\" class=\"dataframe\">\n",
       "  <thead>\n",
       "    <tr style=\"text-align: right;\">\n",
       "      <th></th>\n",
       "      <th>initialDensity</th>\n",
       "      <th>winRate</th>\n",
       "      <th>approxDifficulty</th>\n",
       "      <th>winRateNormalized</th>\n",
       "    </tr>\n",
       "  </thead>\n",
       "  <tbody>\n",
       "    <tr>\n",
       "      <th>0</th>\n",
       "      <td>0.123457</td>\n",
       "      <td>0.8414</td>\n",
       "      <td>easy</td>\n",
       "      <td>1.000000</td>\n",
       "    </tr>\n",
       "    <tr>\n",
       "      <th>1</th>\n",
       "      <td>0.160494</td>\n",
       "      <td>0.7048</td>\n",
       "      <td>medium</td>\n",
       "      <td>0.837652</td>\n",
       "    </tr>\n",
       "    <tr>\n",
       "      <th>2</th>\n",
       "      <td>0.209877</td>\n",
       "      <td>0.4344</td>\n",
       "      <td>hard</td>\n",
       "      <td>0.516282</td>\n",
       "    </tr>\n",
       "    <tr>\n",
       "      <th>3</th>\n",
       "      <td>0.246914</td>\n",
       "      <td>0.2260</td>\n",
       "      <td>expert</td>\n",
       "      <td>0.268600</td>\n",
       "    </tr>\n",
       "  </tbody>\n",
       "</table>\n",
       "</div>"
      ],
      "text/plain": [
       "   initialDensity  winRate approxDifficulty  winRateNormalized\n",
       "0        0.123457   0.8414             easy           1.000000\n",
       "1        0.160494   0.7048           medium           0.837652\n",
       "2        0.209877   0.4344             hard           0.516282\n",
       "3        0.246914   0.2260           expert           0.268600"
      ]
     },
     "execution_count": 124,
     "metadata": {},
     "output_type": "execute_result"
    }
   ],
   "source": [
    "approx_difficulty_and_normalize_column_by_key(winrate_df, \"winRate\")"
   ]
  },
  {
   "attachments": {},
   "cell_type": "markdown",
   "metadata": {},
   "source": [
    "Normalizing by the minimum might give us a better idea:"
   ]
  },
  {
   "cell_type": "code",
   "execution_count": 125,
   "metadata": {},
   "outputs": [
    {
     "data": {
      "text/html": [
       "<div>\n",
       "<style scoped>\n",
       "    .dataframe tbody tr th:only-of-type {\n",
       "        vertical-align: middle;\n",
       "    }\n",
       "\n",
       "    .dataframe tbody tr th {\n",
       "        vertical-align: top;\n",
       "    }\n",
       "\n",
       "    .dataframe thead th {\n",
       "        text-align: right;\n",
       "    }\n",
       "</style>\n",
       "<table border=\"1\" class=\"dataframe\">\n",
       "  <thead>\n",
       "    <tr style=\"text-align: right;\">\n",
       "      <th></th>\n",
       "      <th>initialDensity</th>\n",
       "      <th>winRate</th>\n",
       "      <th>approxDifficulty</th>\n",
       "      <th>winRateNormalized</th>\n",
       "    </tr>\n",
       "  </thead>\n",
       "  <tbody>\n",
       "    <tr>\n",
       "      <th>0</th>\n",
       "      <td>0.123457</td>\n",
       "      <td>0.8414</td>\n",
       "      <td>easy</td>\n",
       "      <td>3.723009</td>\n",
       "    </tr>\n",
       "    <tr>\n",
       "      <th>1</th>\n",
       "      <td>0.160494</td>\n",
       "      <td>0.7048</td>\n",
       "      <td>medium</td>\n",
       "      <td>3.118584</td>\n",
       "    </tr>\n",
       "    <tr>\n",
       "      <th>2</th>\n",
       "      <td>0.209877</td>\n",
       "      <td>0.4344</td>\n",
       "      <td>hard</td>\n",
       "      <td>1.922124</td>\n",
       "    </tr>\n",
       "    <tr>\n",
       "      <th>3</th>\n",
       "      <td>0.246914</td>\n",
       "      <td>0.2260</td>\n",
       "      <td>expert</td>\n",
       "      <td>1.000000</td>\n",
       "    </tr>\n",
       "  </tbody>\n",
       "</table>\n",
       "</div>"
      ],
      "text/plain": [
       "   initialDensity  winRate approxDifficulty  winRateNormalized\n",
       "0        0.123457   0.8414             easy           3.723009\n",
       "1        0.160494   0.7048           medium           3.118584\n",
       "2        0.209877   0.4344             hard           1.922124\n",
       "3        0.246914   0.2260           expert           1.000000"
      ]
     },
     "execution_count": 125,
     "metadata": {},
     "output_type": "execute_result"
    }
   ],
   "source": [
    "approx_difficulty_and_normalize_column_by_min(winrate_df, \"winRate\")"
   ]
  },
  {
   "attachments": {},
   "cell_type": "markdown",
   "metadata": {},
   "source": [
    "Relative to expert difficulty, we win around 3.8x as much in easy, 3.4x in medium, and 1.9x in hard."
   ]
  },
  {
   "attachments": {},
   "cell_type": "markdown",
   "metadata": {},
   "source": [
    "Let's try to find the maximal density such that winRate > 0"
   ]
  },
  {
   "cell_type": "code",
   "execution_count": 126,
   "metadata": {},
   "outputs": [
    {
     "data": {
      "text/html": [
       "<div>\n",
       "<style scoped>\n",
       "    .dataframe tbody tr th:only-of-type {\n",
       "        vertical-align: middle;\n",
       "    }\n",
       "\n",
       "    .dataframe tbody tr th {\n",
       "        vertical-align: top;\n",
       "    }\n",
       "\n",
       "    .dataframe thead th {\n",
       "        text-align: right;\n",
       "    }\n",
       "</style>\n",
       "<table border=\"1\" class=\"dataframe\">\n",
       "  <thead>\n",
       "    <tr style=\"text-align: right;\">\n",
       "      <th></th>\n",
       "      <th>initialDensity</th>\n",
       "      <th>winRate</th>\n",
       "    </tr>\n",
       "  </thead>\n",
       "  <tbody>\n",
       "    <tr>\n",
       "      <th>36</th>\n",
       "      <td>0.444444</td>\n",
       "      <td>0.0002</td>\n",
       "    </tr>\n",
       "    <tr>\n",
       "      <th>77</th>\n",
       "      <td>0.950617</td>\n",
       "      <td>0.0004</td>\n",
       "    </tr>\n",
       "    <tr>\n",
       "      <th>78</th>\n",
       "      <td>0.962963</td>\n",
       "      <td>0.0012</td>\n",
       "    </tr>\n",
       "    <tr>\n",
       "      <th>79</th>\n",
       "      <td>0.975309</td>\n",
       "      <td>0.0212</td>\n",
       "    </tr>\n",
       "    <tr>\n",
       "      <th>80</th>\n",
       "      <td>0.987654</td>\n",
       "      <td>1.0000</td>\n",
       "    </tr>\n",
       "  </tbody>\n",
       "</table>\n",
       "</div>"
      ],
      "text/plain": [
       "    initialDensity  winRate\n",
       "36        0.444444   0.0002\n",
       "77        0.950617   0.0004\n",
       "78        0.962963   0.0012\n",
       "79        0.975309   0.0212\n",
       "80        0.987654   1.0000"
      ]
     },
     "execution_count": 126,
     "metadata": {},
     "output_type": "execute_result"
    }
   ],
   "source": [
    "winrate_df[winrate_df[\"winRate\"] > 0].tail()"
   ]
  },
  {
   "attachments": {},
   "cell_type": "markdown",
   "metadata": {},
   "source": [
    "So, we see that 0.4075 and 0.9753 are the maximal densities such that we can win (besides the trivial 80)"
   ]
  },
  {
   "attachments": {},
   "cell_type": "markdown",
   "metadata": {},
   "source": [
    "### 2. Runtime"
   ]
  },
  {
   "cell_type": "code",
   "execution_count": 127,
   "metadata": {},
   "outputs": [],
   "source": [
    "mean_runtime_df = df.groupby([\"initialDensity\"]).mean(\"elapsedMillis\")[\"elapsedMillis\"].reset_index()"
   ]
  },
  {
   "cell_type": "code",
   "execution_count": 128,
   "metadata": {},
   "outputs": [
    {
     "data": {
      "image/png": "[encoded data removed]",
      "text/plain": [
       "<Figure size 432x288 with 1 Axes>"
      ]
     },
     "metadata": {
      "needs_background": "light"
     },
     "output_type": "display_data"
    }
   ],
   "source": [
    "plot_column_by_density(mean_runtime_df, \"elapsedMillis\", \"Average Runtime (ms)\")"
   ]
  },
  {
   "attachments": {},
   "cell_type": "markdown",
   "metadata": {},
   "source": [
    "Normalized runtime by the runtime of the \"easy\" approximate difficulty"
   ]
  },
  {
   "cell_type": "code",
   "execution_count": 129,
   "metadata": {},
   "outputs": [
    {
     "data": {
      "text/html": [
       "<div>\n",
       "<style scoped>\n",
       "    .dataframe tbody tr th:only-of-type {\n",
       "        vertical-align: middle;\n",
       "    }\n",
       "\n",
       "    .dataframe tbody tr th {\n",
       "        vertical-align: top;\n",
       "    }\n",
       "\n",
       "    .dataframe thead th {\n",
       "        text-align: right;\n",
       "    }\n",
       "</style>\n",
       "<table border=\"1\" class=\"dataframe\">\n",
       "  <thead>\n",
       "    <tr style=\"text-align: right;\">\n",
       "      <th></th>\n",
       "      <th>initialDensity</th>\n",
       "      <th>elapsedMillis</th>\n",
       "      <th>approxDifficulty</th>\n",
       "      <th>elapsedMillisNormalized</th>\n",
       "    </tr>\n",
       "  </thead>\n",
       "  <tbody>\n",
       "    <tr>\n",
       "      <th>0</th>\n",
       "      <td>0.123457</td>\n",
       "      <td>3.6352</td>\n",
       "      <td>easy</td>\n",
       "      <td>1.000000</td>\n",
       "    </tr>\n",
       "    <tr>\n",
       "      <th>1</th>\n",
       "      <td>0.160494</td>\n",
       "      <td>5.5206</td>\n",
       "      <td>medium</td>\n",
       "      <td>1.518651</td>\n",
       "    </tr>\n",
       "    <tr>\n",
       "      <th>2</th>\n",
       "      <td>0.209877</td>\n",
       "      <td>7.3566</td>\n",
       "      <td>hard</td>\n",
       "      <td>2.023713</td>\n",
       "    </tr>\n",
       "    <tr>\n",
       "      <th>3</th>\n",
       "      <td>0.246914</td>\n",
       "      <td>7.1970</td>\n",
       "      <td>expert</td>\n",
       "      <td>1.979809</td>\n",
       "    </tr>\n",
       "  </tbody>\n",
       "</table>\n",
       "</div>"
      ],
      "text/plain": [
       "   initialDensity  elapsedMillis approxDifficulty  elapsedMillisNormalized\n",
       "0        0.123457         3.6352             easy                 1.000000\n",
       "1        0.160494         5.5206           medium                 1.518651\n",
       "2        0.209877         7.3566             hard                 2.023713\n",
       "3        0.246914         7.1970           expert                 1.979809"
      ]
     },
     "execution_count": 129,
     "metadata": {},
     "output_type": "execute_result"
    }
   ],
   "source": [
    "approx_difficulty_and_normalize_column_by_key(mean_runtime_df, \"elapsedMillis\")"
   ]
  },
  {
   "attachments": {},
   "cell_type": "markdown",
   "metadata": {},
   "source": [
    "### 3. Number of moves\n",
    "\n",
    "Mean turns of all games"
   ]
  },
  {
   "cell_type": "code",
   "execution_count": 130,
   "metadata": {},
   "outputs": [],
   "source": [
    "mean_turns_df = df.groupby([\"initialDensity\"]).mean(\"numMoves\")[\"numMoves\"].reset_index()"
   ]
  },
  {
   "cell_type": "code",
   "execution_count": 131,
   "metadata": {},
   "outputs": [
    {
     "data": {
      "image/png": "[encoded data removed]",
      "text/plain": [
       "<Figure size 432x288 with 1 Axes>"
      ]
     },
     "metadata": {
      "needs_background": "light"
     },
     "output_type": "display_data"
    }
   ],
   "source": [
    "plot_column_by_density(mean_turns_df, \"numMoves\", \"Mean # Moves\")"
   ]
  },
  {
   "attachments": {},
   "cell_type": "markdown",
   "metadata": {},
   "source": [
    "Normalized data"
   ]
  },
  {
   "cell_type": "code",
   "execution_count": 132,
   "metadata": {},
   "outputs": [
    {
     "data": {
      "text/html": [
       "<div>\n",
       "<style scoped>\n",
       "    .dataframe tbody tr th:only-of-type {\n",
       "        vertical-align: middle;\n",
       "    }\n",
       "\n",
       "    .dataframe tbody tr th {\n",
       "        vertical-align: top;\n",
       "    }\n",
       "\n",
       "    .dataframe thead th {\n",
       "        text-align: right;\n",
       "    }\n",
       "</style>\n",
       "<table border=\"1\" class=\"dataframe\">\n",
       "  <thead>\n",
       "    <tr style=\"text-align: right;\">\n",
       "      <th></th>\n",
       "      <th>initialDensity</th>\n",
       "      <th>numMoves</th>\n",
       "      <th>approxDifficulty</th>\n",
       "      <th>numMovesNormalized</th>\n",
       "    </tr>\n",
       "  </thead>\n",
       "  <tbody>\n",
       "    <tr>\n",
       "      <th>0</th>\n",
       "      <td>0.123457</td>\n",
       "      <td>17.8932</td>\n",
       "      <td>easy</td>\n",
       "      <td>1.000000</td>\n",
       "    </tr>\n",
       "    <tr>\n",
       "      <th>1</th>\n",
       "      <td>0.160494</td>\n",
       "      <td>22.0334</td>\n",
       "      <td>medium</td>\n",
       "      <td>1.231384</td>\n",
       "    </tr>\n",
       "    <tr>\n",
       "      <th>2</th>\n",
       "      <td>0.209877</td>\n",
       "      <td>22.1350</td>\n",
       "      <td>hard</td>\n",
       "      <td>1.237062</td>\n",
       "    </tr>\n",
       "    <tr>\n",
       "      <th>3</th>\n",
       "      <td>0.246914</td>\n",
       "      <td>18.6040</td>\n",
       "      <td>expert</td>\n",
       "      <td>1.039725</td>\n",
       "    </tr>\n",
       "  </tbody>\n",
       "</table>\n",
       "</div>"
      ],
      "text/plain": [
       "   initialDensity  numMoves approxDifficulty  numMovesNormalized\n",
       "0        0.123457   17.8932             easy            1.000000\n",
       "1        0.160494   22.0334           medium            1.231384\n",
       "2        0.209877   22.1350             hard            1.237062\n",
       "3        0.246914   18.6040           expert            1.039725"
      ]
     },
     "execution_count": 132,
     "metadata": {},
     "output_type": "execute_result"
    }
   ],
   "source": [
    "approx_difficulty_and_normalize_column_by_key(mean_turns_df, \"numMoves\")"
   ]
  },
  {
   "attachments": {},
   "cell_type": "markdown",
   "metadata": {},
   "source": [
    "#### Any difference between winners and losers?"
   ]
  },
  {
   "attachments": {},
   "cell_type": "markdown",
   "metadata": {},
   "source": [
    "##### Mean turns of winners"
   ]
  },
  {
   "cell_type": "code",
   "execution_count": 133,
   "metadata": {},
   "outputs": [],
   "source": [
    "mean_turns_winners = mean_turns_df = df[df[\"status\"] == \"WIN\"].groupby([\"initialDensity\"]).mean(\"numMoves\")[\"numMoves\"].reset_index()"
   ]
  },
  {
   "cell_type": "code",
   "execution_count": 134,
   "metadata": {},
   "outputs": [
    {
     "data": {
      "image/png": "[encoded data removed]",
      "text/plain": [
       "<Figure size 432x288 with 1 Axes>"
      ]
     },
     "metadata": {
      "needs_background": "light"
     },
     "output_type": "display_data"
    }
   ],
   "source": [
    "plot_column_by_density(mean_turns_winners, \"numMoves\", \"Mean # Moves\")"
   ]
  },
  {
   "cell_type": "code",
   "execution_count": 135,
   "metadata": {},
   "outputs": [
    {
     "data": {
      "text/html": [
       "<div>\n",
       "<style scoped>\n",
       "    .dataframe tbody tr th:only-of-type {\n",
       "        vertical-align: middle;\n",
       "    }\n",
       "\n",
       "    .dataframe tbody tr th {\n",
       "        vertical-align: top;\n",
       "    }\n",
       "\n",
       "    .dataframe thead th {\n",
       "        text-align: right;\n",
       "    }\n",
       "</style>\n",
       "<table border=\"1\" class=\"dataframe\">\n",
       "  <thead>\n",
       "    <tr style=\"text-align: right;\">\n",
       "      <th></th>\n",
       "      <th>initialDensity</th>\n",
       "      <th>numMoves</th>\n",
       "      <th>approxDifficulty</th>\n",
       "      <th>numMovesNormalized</th>\n",
       "    </tr>\n",
       "  </thead>\n",
       "  <tbody>\n",
       "    <tr>\n",
       "      <th>0</th>\n",
       "      <td>0.123457</td>\n",
       "      <td>20.292608</td>\n",
       "      <td>easy</td>\n",
       "      <td>1.000000</td>\n",
       "    </tr>\n",
       "    <tr>\n",
       "      <th>1</th>\n",
       "      <td>0.160494</td>\n",
       "      <td>28.064699</td>\n",
       "      <td>medium</td>\n",
       "      <td>1.383001</td>\n",
       "    </tr>\n",
       "    <tr>\n",
       "      <th>2</th>\n",
       "      <td>0.209877</td>\n",
       "      <td>35.898250</td>\n",
       "      <td>hard</td>\n",
       "      <td>1.769031</td>\n",
       "    </tr>\n",
       "    <tr>\n",
       "      <th>3</th>\n",
       "      <td>0.246914</td>\n",
       "      <td>39.700885</td>\n",
       "      <td>expert</td>\n",
       "      <td>1.956421</td>\n",
       "    </tr>\n",
       "  </tbody>\n",
       "</table>\n",
       "</div>"
      ],
      "text/plain": [
       "   initialDensity   numMoves approxDifficulty  numMovesNormalized\n",
       "0        0.123457  20.292608             easy            1.000000\n",
       "1        0.160494  28.064699           medium            1.383001\n",
       "2        0.209877  35.898250             hard            1.769031\n",
       "3        0.246914  39.700885           expert            1.956421"
      ]
     },
     "execution_count": 135,
     "metadata": {},
     "output_type": "execute_result"
    }
   ],
   "source": [
    "approx_difficulty_and_normalize_column_by_key(mean_turns_winners, \"numMoves\")"
   ]
  },
  {
   "attachments": {},
   "cell_type": "markdown",
   "metadata": {},
   "source": [
    "##### Mean turns of losers"
   ]
  },
  {
   "cell_type": "code",
   "execution_count": 136,
   "metadata": {},
   "outputs": [],
   "source": [
    "mean_turns_losers = df[df[\"status\"] == \"LOSE\"].groupby([\"initialDensity\"]).mean(\"numMoves\")[\"numMoves\"].reset_index()"
   ]
  },
  {
   "cell_type": "code",
   "execution_count": 137,
   "metadata": {},
   "outputs": [
    {
     "data": {
      "image/png": "[encoded data removed]",
      "text/plain": [
       "<Figure size 432x288 with 1 Axes>"
      ]
     },
     "metadata": {
      "needs_background": "light"
     },
     "output_type": "display_data"
    }
   ],
   "source": [
    "plot_column_by_density(mean_turns_losers, \"numMoves\", \"Mean # Moves\")"
   ]
  },
  {
   "cell_type": "code",
   "execution_count": 138,
   "metadata": {},
   "outputs": [
    {
     "data": {
      "text/html": [
       "<div>\n",
       "<style scoped>\n",
       "    .dataframe tbody tr th:only-of-type {\n",
       "        vertical-align: middle;\n",
       "    }\n",
       "\n",
       "    .dataframe tbody tr th {\n",
       "        vertical-align: top;\n",
       "    }\n",
       "\n",
       "    .dataframe thead th {\n",
       "        text-align: right;\n",
       "    }\n",
       "</style>\n",
       "<table border=\"1\" class=\"dataframe\">\n",
       "  <thead>\n",
       "    <tr style=\"text-align: right;\">\n",
       "      <th></th>\n",
       "      <th>initialDensity</th>\n",
       "      <th>numMoves</th>\n",
       "      <th>approxDifficulty</th>\n",
       "      <th>numMovesNormalized</th>\n",
       "    </tr>\n",
       "  </thead>\n",
       "  <tbody>\n",
       "    <tr>\n",
       "      <th>0</th>\n",
       "      <td>0.123457</td>\n",
       "      <td>5.163934</td>\n",
       "      <td>easy</td>\n",
       "      <td>1.000000</td>\n",
       "    </tr>\n",
       "    <tr>\n",
       "      <th>1</th>\n",
       "      <td>0.160494</td>\n",
       "      <td>7.633469</td>\n",
       "      <td>medium</td>\n",
       "      <td>1.478227</td>\n",
       "    </tr>\n",
       "    <tr>\n",
       "      <th>2</th>\n",
       "      <td>0.209877</td>\n",
       "      <td>11.564356</td>\n",
       "      <td>hard</td>\n",
       "      <td>2.239447</td>\n",
       "    </tr>\n",
       "    <tr>\n",
       "      <th>3</th>\n",
       "      <td>0.246914</td>\n",
       "      <td>12.443928</td>\n",
       "      <td>expert</td>\n",
       "      <td>2.409776</td>\n",
       "    </tr>\n",
       "  </tbody>\n",
       "</table>\n",
       "</div>"
      ],
      "text/plain": [
       "   initialDensity   numMoves approxDifficulty  numMovesNormalized\n",
       "0        0.123457   5.163934             easy            1.000000\n",
       "1        0.160494   7.633469           medium            1.478227\n",
       "2        0.209877  11.564356             hard            2.239447\n",
       "3        0.246914  12.443928           expert            2.409776"
      ]
     },
     "execution_count": 138,
     "metadata": {},
     "output_type": "execute_result"
    }
   ],
   "source": [
    "approx_difficulty_and_normalize_column_by_key(mean_turns_losers, \"numMoves\")"
   ]
  }
 ],
 "metadata": {
  "kernelspec": {
   "display_name": "Python 3",
   "language": "python",
   "name": "python3"
  },
  "language_info": {
   "codemirror_mode": {
    "name": "ipython",
    "version": 3
   },
   "file_extension": ".py",
   "mimetype": "text/x-python",
   "name": "python",
   "nbconvert_exporter": "python",
   "pygments_lexer": "ipython3",
   "version": "3.9.0"
  },
  "orig_nbformat": 4
 },
 "nbformat": 4,
 "nbformat_minor": 2
}
