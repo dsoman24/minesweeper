{
 "cells": [
  {
   "attachments": {},
   "cell_type": "markdown",
   "metadata": {},
   "source": [
    "# Minesweeper Bot Analysis\n",
    "Primarily an analysis of my probabilistic strategy.\n",
    "\n",
    "Data collection overview:\n",
    "- 9x9 grid, varying the number of mines from 0 to 81. \n",
    "- 1000 trials per distinct density (so 82000 games simulated).\n",
    "\n",
    "Insights:\n",
    "1. Runtime by density\n",
    "2. Win rate by density\n",
    "3. Turns taken to win by density\n",
    "    - How many tiles are cleared?\n",
    "4. Turns taken to lose by density\n",
    "    - How many tiles are cleared?\n",
    "    - How many tiles are left?"
   ]
  },
  {
   "attachments": {},
   "cell_type": "markdown",
   "metadata": {},
   "source": [
    "Import dependencies"
   ]
  },
  {
   "cell_type": "code",
   "execution_count": 1,
   "metadata": {},
   "outputs": [],
   "source": [
    "import pandas as pd\n",
    "import matplotlib.pyplot as plt"
   ]
  },
  {
   "attachments": {},
   "cell_type": "markdown",
   "metadata": {},
   "source": [
    "Read data"
   ]
  },
  {
   "cell_type": "code",
   "execution_count": 2,
   "metadata": {},
   "outputs": [
    {
     "data": {
      "text/html": [
       "<div>\n",
       "<style scoped>\n",
       "    .dataframe tbody tr th:only-of-type {\n",
       "        vertical-align: middle;\n",
       "    }\n",
       "\n",
       "    .dataframe tbody tr th {\n",
       "        vertical-align: top;\n",
       "    }\n",
       "\n",
       "    .dataframe thead th {\n",
       "        text-align: right;\n",
       "    }\n",
       "</style>\n",
       "<table border=\"1\" class=\"dataframe\">\n",
       "  <thead>\n",
       "    <tr style=\"text-align: right;\">\n",
       "      <th></th>\n",
       "      <th>numRows</th>\n",
       "      <th>numColumns</th>\n",
       "      <th>initialDensity</th>\n",
       "      <th>numMines</th>\n",
       "      <th>status</th>\n",
       "      <th>numMoves</th>\n",
       "      <th>numTilesCleared</th>\n",
       "      <th>elapsedMillis</th>\n",
       "    </tr>\n",
       "  </thead>\n",
       "  <tbody>\n",
       "    <tr>\n",
       "      <th>0</th>\n",
       "      <td>9</td>\n",
       "      <td>9</td>\n",
       "      <td>0.0</td>\n",
       "      <td>0</td>\n",
       "      <td>WIN</td>\n",
       "      <td>1</td>\n",
       "      <td>81</td>\n",
       "      <td>7</td>\n",
       "    </tr>\n",
       "    <tr>\n",
       "      <th>1</th>\n",
       "      <td>9</td>\n",
       "      <td>9</td>\n",
       "      <td>0.0</td>\n",
       "      <td>0</td>\n",
       "      <td>WIN</td>\n",
       "      <td>1</td>\n",
       "      <td>81</td>\n",
       "      <td>0</td>\n",
       "    </tr>\n",
       "    <tr>\n",
       "      <th>2</th>\n",
       "      <td>9</td>\n",
       "      <td>9</td>\n",
       "      <td>0.0</td>\n",
       "      <td>0</td>\n",
       "      <td>WIN</td>\n",
       "      <td>1</td>\n",
       "      <td>81</td>\n",
       "      <td>1</td>\n",
       "    </tr>\n",
       "    <tr>\n",
       "      <th>3</th>\n",
       "      <td>9</td>\n",
       "      <td>9</td>\n",
       "      <td>0.0</td>\n",
       "      <td>0</td>\n",
       "      <td>WIN</td>\n",
       "      <td>1</td>\n",
       "      <td>81</td>\n",
       "      <td>1</td>\n",
       "    </tr>\n",
       "    <tr>\n",
       "      <th>4</th>\n",
       "      <td>9</td>\n",
       "      <td>9</td>\n",
       "      <td>0.0</td>\n",
       "      <td>0</td>\n",
       "      <td>WIN</td>\n",
       "      <td>1</td>\n",
       "      <td>81</td>\n",
       "      <td>1</td>\n",
       "    </tr>\n",
       "    <tr>\n",
       "      <th>...</th>\n",
       "      <td>...</td>\n",
       "      <td>...</td>\n",
       "      <td>...</td>\n",
       "      <td>...</td>\n",
       "      <td>...</td>\n",
       "      <td>...</td>\n",
       "      <td>...</td>\n",
       "      <td>...</td>\n",
       "    </tr>\n",
       "    <tr>\n",
       "      <th>81995</th>\n",
       "      <td>9</td>\n",
       "      <td>9</td>\n",
       "      <td>1.0</td>\n",
       "      <td>81</td>\n",
       "      <td>LOSE</td>\n",
       "      <td>1</td>\n",
       "      <td>0</td>\n",
       "      <td>1</td>\n",
       "    </tr>\n",
       "    <tr>\n",
       "      <th>81996</th>\n",
       "      <td>9</td>\n",
       "      <td>9</td>\n",
       "      <td>1.0</td>\n",
       "      <td>81</td>\n",
       "      <td>LOSE</td>\n",
       "      <td>1</td>\n",
       "      <td>0</td>\n",
       "      <td>0</td>\n",
       "    </tr>\n",
       "    <tr>\n",
       "      <th>81997</th>\n",
       "      <td>9</td>\n",
       "      <td>9</td>\n",
       "      <td>1.0</td>\n",
       "      <td>81</td>\n",
       "      <td>LOSE</td>\n",
       "      <td>1</td>\n",
       "      <td>0</td>\n",
       "      <td>0</td>\n",
       "    </tr>\n",
       "    <tr>\n",
       "      <th>81998</th>\n",
       "      <td>9</td>\n",
       "      <td>9</td>\n",
       "      <td>1.0</td>\n",
       "      <td>81</td>\n",
       "      <td>LOSE</td>\n",
       "      <td>1</td>\n",
       "      <td>0</td>\n",
       "      <td>0</td>\n",
       "    </tr>\n",
       "    <tr>\n",
       "      <th>81999</th>\n",
       "      <td>9</td>\n",
       "      <td>9</td>\n",
       "      <td>1.0</td>\n",
       "      <td>81</td>\n",
       "      <td>LOSE</td>\n",
       "      <td>1</td>\n",
       "      <td>0</td>\n",
       "      <td>1</td>\n",
       "    </tr>\n",
       "  </tbody>\n",
       "</table>\n",
       "<p>82000 rows × 8 columns</p>\n",
       "</div>"
      ],
      "text/plain": [
       "       numRows  numColumns  initialDensity  numMines status  numMoves  \\\n",
       "0            9           9             0.0         0    WIN         1   \n",
       "1            9           9             0.0         0    WIN         1   \n",
       "2            9           9             0.0         0    WIN         1   \n",
       "3            9           9             0.0         0    WIN         1   \n",
       "4            9           9             0.0         0    WIN         1   \n",
       "...        ...         ...             ...       ...    ...       ...   \n",
       "81995        9           9             1.0        81   LOSE         1   \n",
       "81996        9           9             1.0        81   LOSE         1   \n",
       "81997        9           9             1.0        81   LOSE         1   \n",
       "81998        9           9             1.0        81   LOSE         1   \n",
       "81999        9           9             1.0        81   LOSE         1   \n",
       "\n",
       "       numTilesCleared  elapsedMillis  \n",
       "0                   81              7  \n",
       "1                   81              0  \n",
       "2                   81              1  \n",
       "3                   81              1  \n",
       "4                   81              1  \n",
       "...                ...            ...  \n",
       "81995                0              1  \n",
       "81996                0              0  \n",
       "81997                0              0  \n",
       "81998                0              0  \n",
       "81999                0              1  \n",
       "\n",
       "[82000 rows x 8 columns]"
      ]
     },
     "execution_count": 2,
     "metadata": {},
     "output_type": "execute_result"
    }
   ],
   "source": [
    "df = pd.read_csv(\"../data/test.csv\")\n",
    "df"
   ]
  },
  {
   "attachments": {},
   "cell_type": "markdown",
   "metadata": {},
   "source": [
    "### 1. Win rate"
   ]
  },
  {
   "cell_type": "code",
   "execution_count": 3,
   "metadata": {},
   "outputs": [],
   "source": [
    "def win_rate(group):\n",
    "    return pd.Series({\"winRate\": len(group[group[\"status\"] == \"WIN\"]) / len(group[\"status\"])})"
   ]
  },
  {
   "cell_type": "code",
   "execution_count": 4,
   "metadata": {},
   "outputs": [
    {
     "data": {
      "image/png": "[encoded data removed]",
      "text/plain": [
       "<Figure size 432x288 with 1 Axes>"
      ]
     },
     "metadata": {
      "needs_background": "light"
     },
     "output_type": "display_data"
    }
   ],
   "source": [
    "winrate_df = df.groupby([\"initialDensity\"]).apply(lambda x : win_rate(x))[\"winRate\"].reset_index()\n",
    "plt.plot(winrate_df[\"initialDensity\"], winrate_df[\"winRate\"])\n",
    "plt.xlabel(\"Density\")\n",
    "plt.ylabel(\"Win Rate\")\n",
    "plt.title(\"Win Rate vs Density\")\n",
    "plt.show()"
   ]
  },
  {
   "attachments": {},
   "cell_type": "markdown",
   "metadata": {},
   "source": [
    "There is a spike at numMines = 80 because we are guaranteed to start on a non-mine, and this is the only non-mine there is."
   ]
  },
  {
   "attachments": {},
   "cell_type": "markdown",
   "metadata": {},
   "source": [
    "Recall: \n",
    "- $\\rho_\\text{easy} = 0.1234567901$.\n",
    "- $\\rho_\\text{medium} = 0.15625$.\n",
    "- $\\rho_\\text{hard} = 0.20625$.\n",
    "- $\\rho_\\text{expert} = 0.25$.\n",
    "\n",
    "We can use the 9x9 board to approximate the win rates of the probabilistic algorithm for the different difficulty games"
   ]
  },
  {
   "cell_type": "code",
   "execution_count": 5,
   "metadata": {},
   "outputs": [],
   "source": [
    "def in_density_range(density, epsilon):\n",
    "    return winrate_df[(winrate_df[\"initialDensity\"] >= (density - epsilon)) & (winrate_df[\"initialDensity\"] <= (density + epsilon))]"
   ]
  },
  {
   "cell_type": "code",
   "execution_count": 39,
   "metadata": {},
   "outputs": [
    {
     "name": "stdout",
     "output_type": "stream",
     "text": [
      "    initialDensity  winRate\n",
      "10        0.123457    0.821\n",
      "    initialDensity  winRate\n",
      "13        0.160494    0.722\n",
      "    initialDensity  winRate\n",
      "17        0.209877    0.416\n",
      "    initialDensity  winRate\n",
      "20        0.246914    0.215\n"
     ]
    }
   ],
   "source": [
    "epsilon = 0.005\n",
    "print(in_density_range(0.1234567901, epsilon))\n",
    "print(in_density_range(0.15625, epsilon))\n",
    "print(in_density_range(0.20625, epsilon))\n",
    "print(in_density_range(0.25, epsilon))"
   ]
  },
  {
   "attachments": {},
   "cell_type": "markdown",
   "metadata": {},
   "source": [
    "By trial and error, we find that 0.37 is the highest (not # total tiles - 1) density which the bot can win"
   ]
  },
  {
   "cell_type": "code",
   "execution_count": 45,
   "metadata": {},
   "outputs": [
    {
     "name": "stdout",
     "output_type": "stream",
     "text": [
      "    initialDensity  winRate\n",
      "30         0.37037    0.005\n"
     ]
    }
   ],
   "source": [
    "print(in_density_range(0.37, epsilon))"
   ]
  },
  {
   "attachments": {},
   "cell_type": "markdown",
   "metadata": {},
   "source": [
    "### Runtime"
   ]
  },
  {
   "cell_type": "code",
   "execution_count": 19,
   "metadata": {},
   "outputs": [
    {
     "data": {
      "text/plain": [
       "14.228"
      ]
     },
     "execution_count": 19,
     "metadata": {},
     "output_type": "execute_result"
    }
   ],
   "source": [
    "mean_runtime_series = df.groupby([\"initialDensity\"]).mean(\"elapsedMillis\")[\"elapsedMillis\"]\n",
    "mean_runtime_series.max()"
   ]
  },
  {
   "cell_type": "code",
   "execution_count": 20,
   "metadata": {},
   "outputs": [
    {
     "data": {
      "image/png": "[encoded data removed]",
      "text/plain": [
       "<Figure size 432x288 with 1 Axes>"
      ]
     },
     "metadata": {
      "needs_background": "light"
     },
     "output_type": "display_data"
    }
   ],
   "source": [
    "plt.plot(mean_runtime_series)\n",
    "plt.xlabel(\"Density\")\n",
    "plt.ylabel(\"Mean Runtime (ms)\")\n",
    "plt.title(\"Mean Runtime vs Density\")\n",
    "plt.show()"
   ]
  },
  {
   "cell_type": "code",
   "execution_count": 21,
   "metadata": {},
   "outputs": [
    {
     "data": {
      "text/html": [
       "<div>\n",
       "<style scoped>\n",
       "    .dataframe tbody tr th:only-of-type {\n",
       "        vertical-align: middle;\n",
       "    }\n",
       "\n",
       "    .dataframe tbody tr th {\n",
       "        vertical-align: top;\n",
       "    }\n",
       "\n",
       "    .dataframe thead th {\n",
       "        text-align: right;\n",
       "    }\n",
       "</style>\n",
       "<table border=\"1\" class=\"dataframe\">\n",
       "  <thead>\n",
       "    <tr style=\"text-align: right;\">\n",
       "      <th></th>\n",
       "      <th>numRows</th>\n",
       "      <th>numColumns</th>\n",
       "      <th>initialDensity</th>\n",
       "      <th>numMines</th>\n",
       "      <th>status</th>\n",
       "      <th>numMoves</th>\n",
       "      <th>numTilesCleared</th>\n",
       "      <th>elapsedMillis</th>\n",
       "    </tr>\n",
       "  </thead>\n",
       "  <tbody>\n",
       "    <tr>\n",
       "      <th>0</th>\n",
       "      <td>9</td>\n",
       "      <td>9</td>\n",
       "      <td>0.000000</td>\n",
       "      <td>0</td>\n",
       "      <td>WIN</td>\n",
       "      <td>1</td>\n",
       "      <td>81</td>\n",
       "      <td>7</td>\n",
       "    </tr>\n",
       "    <tr>\n",
       "      <th>1</th>\n",
       "      <td>9</td>\n",
       "      <td>9</td>\n",
       "      <td>0.000000</td>\n",
       "      <td>0</td>\n",
       "      <td>WIN</td>\n",
       "      <td>1</td>\n",
       "      <td>81</td>\n",
       "      <td>0</td>\n",
       "    </tr>\n",
       "    <tr>\n",
       "      <th>2</th>\n",
       "      <td>9</td>\n",
       "      <td>9</td>\n",
       "      <td>0.000000</td>\n",
       "      <td>0</td>\n",
       "      <td>WIN</td>\n",
       "      <td>1</td>\n",
       "      <td>81</td>\n",
       "      <td>1</td>\n",
       "    </tr>\n",
       "    <tr>\n",
       "      <th>3</th>\n",
       "      <td>9</td>\n",
       "      <td>9</td>\n",
       "      <td>0.000000</td>\n",
       "      <td>0</td>\n",
       "      <td>WIN</td>\n",
       "      <td>1</td>\n",
       "      <td>81</td>\n",
       "      <td>1</td>\n",
       "    </tr>\n",
       "    <tr>\n",
       "      <th>4</th>\n",
       "      <td>9</td>\n",
       "      <td>9</td>\n",
       "      <td>0.000000</td>\n",
       "      <td>0</td>\n",
       "      <td>WIN</td>\n",
       "      <td>1</td>\n",
       "      <td>81</td>\n",
       "      <td>1</td>\n",
       "    </tr>\n",
       "    <tr>\n",
       "      <th>...</th>\n",
       "      <td>...</td>\n",
       "      <td>...</td>\n",
       "      <td>...</td>\n",
       "      <td>...</td>\n",
       "      <td>...</td>\n",
       "      <td>...</td>\n",
       "      <td>...</td>\n",
       "      <td>...</td>\n",
       "    </tr>\n",
       "    <tr>\n",
       "      <th>80995</th>\n",
       "      <td>9</td>\n",
       "      <td>9</td>\n",
       "      <td>0.987654</td>\n",
       "      <td>80</td>\n",
       "      <td>WIN</td>\n",
       "      <td>1</td>\n",
       "      <td>1</td>\n",
       "      <td>0</td>\n",
       "    </tr>\n",
       "    <tr>\n",
       "      <th>80996</th>\n",
       "      <td>9</td>\n",
       "      <td>9</td>\n",
       "      <td>0.987654</td>\n",
       "      <td>80</td>\n",
       "      <td>WIN</td>\n",
       "      <td>1</td>\n",
       "      <td>1</td>\n",
       "      <td>0</td>\n",
       "    </tr>\n",
       "    <tr>\n",
       "      <th>80997</th>\n",
       "      <td>9</td>\n",
       "      <td>9</td>\n",
       "      <td>0.987654</td>\n",
       "      <td>80</td>\n",
       "      <td>WIN</td>\n",
       "      <td>1</td>\n",
       "      <td>1</td>\n",
       "      <td>0</td>\n",
       "    </tr>\n",
       "    <tr>\n",
       "      <th>80998</th>\n",
       "      <td>9</td>\n",
       "      <td>9</td>\n",
       "      <td>0.987654</td>\n",
       "      <td>80</td>\n",
       "      <td>WIN</td>\n",
       "      <td>1</td>\n",
       "      <td>1</td>\n",
       "      <td>0</td>\n",
       "    </tr>\n",
       "    <tr>\n",
       "      <th>80999</th>\n",
       "      <td>9</td>\n",
       "      <td>9</td>\n",
       "      <td>0.987654</td>\n",
       "      <td>80</td>\n",
       "      <td>WIN</td>\n",
       "      <td>1</td>\n",
       "      <td>1</td>\n",
       "      <td>4</td>\n",
       "    </tr>\n",
       "  </tbody>\n",
       "</table>\n",
       "<p>17587 rows × 8 columns</p>\n",
       "</div>"
      ],
      "text/plain": [
       "       numRows  numColumns  initialDensity  numMines status  numMoves  \\\n",
       "0            9           9        0.000000         0    WIN         1   \n",
       "1            9           9        0.000000         0    WIN         1   \n",
       "2            9           9        0.000000         0    WIN         1   \n",
       "3            9           9        0.000000         0    WIN         1   \n",
       "4            9           9        0.000000         0    WIN         1   \n",
       "...        ...         ...             ...       ...    ...       ...   \n",
       "80995        9           9        0.987654        80    WIN         1   \n",
       "80996        9           9        0.987654        80    WIN         1   \n",
       "80997        9           9        0.987654        80    WIN         1   \n",
       "80998        9           9        0.987654        80    WIN         1   \n",
       "80999        9           9        0.987654        80    WIN         1   \n",
       "\n",
       "       numTilesCleared  elapsedMillis  \n",
       "0                   81              7  \n",
       "1                   81              0  \n",
       "2                   81              1  \n",
       "3                   81              1  \n",
       "4                   81              1  \n",
       "...                ...            ...  \n",
       "80995                1              0  \n",
       "80996                1              0  \n",
       "80997                1              0  \n",
       "80998                1              0  \n",
       "80999                1              4  \n",
       "\n",
       "[17587 rows x 8 columns]"
      ]
     },
     "execution_count": 21,
     "metadata": {},
     "output_type": "execute_result"
    }
   ],
   "source": [
    "winners = df[df[\"status\"] == \"WIN\"]\n",
    "winners"
   ]
  },
  {
   "cell_type": "code",
   "execution_count": null,
   "metadata": {},
   "outputs": [],
   "source": []
  }
 ],
 "metadata": {
  "kernelspec": {
   "display_name": "Python 3",
   "language": "python",
   "name": "python3"
  },
  "language_info": {
   "codemirror_mode": {
    "name": "ipython",
    "version": 3
   },
   "file_extension": ".py",
   "mimetype": "text/x-python",
   "name": "python",
   "nbconvert_exporter": "python",
   "pygments_lexer": "ipython3",
   "version": "3.9.0"
  },
  "orig_nbformat": 4
 },
 "nbformat": 4,
 "nbformat_minor": 2
}
